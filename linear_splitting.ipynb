{
 "metadata": {
  "name": ""
 },
 "nbformat": 3,
 "nbformat_minor": 0,
 "worksheets": [
  {
   "cells": [
    {
     "cell_type": "code",
     "collapsed": false,
     "input": [
      "import pickle\n",
      "import pandas as pd\n",
      "import numpy as np\n",
      "import statsmodels.api as sm\n",
      "import matplotlib.pyplot as plt\n",
      "import matplotlib.ticker as tkr\n",
      "from patsy import dmatrices\n",
      "%matplotlib inline"
     ],
     "language": "python",
     "metadata": {},
     "outputs": [],
     "prompt_number": 25
    },
    {
     "cell_type": "code",
     "collapsed": false,
     "input": [
      "PICKLEDIR = \"./pkls/\""
     ],
     "language": "python",
     "metadata": {},
     "outputs": [],
     "prompt_number": 26
    },
    {
     "cell_type": "code",
     "collapsed": false,
     "input": [
      "def pickle_stuff(filename, data):\n",
      "    with open(filename, 'w') as picklefile:\n",
      "        pickle.dump(data, picklefile)"
     ],
     "language": "python",
     "metadata": {},
     "outputs": [],
     "prompt_number": 27
    },
    {
     "cell_type": "code",
     "collapsed": false,
     "input": [
      "def unpickle(filename):\n",
      "    with open(filename, 'r') as picklefile:\n",
      "        old_data = pickle.load(picklefile)\n",
      "    return old_data"
     ],
     "language": "python",
     "metadata": {},
     "outputs": [],
     "prompt_number": 28
    },
    {
     "cell_type": "code",
     "collapsed": false,
     "input": [
      "def ols_domestic_constant(df):\n",
      "    y, X = dmatrices('DomLifeGross ~ 1', data=df, return_type = 'dataframe')\n",
      "    results, predicted = make_model(X, y)\n",
      "    return X, y, results, predicted"
     ],
     "language": "python",
     "metadata": {},
     "outputs": [],
     "prompt_number": 29
    },
    {
     "cell_type": "code",
     "collapsed": false,
     "input": [
      "def make_model(X, y):\n",
      "    #print y.head(), X.head()\n",
      "    model = sm.OLS(y,X)\n",
      "    results = model.fit()\n",
      "    #print results.summary()\n",
      "    #print \"Parameters:\", results.params\n",
      "    print \"R Squared\", results.rsquared\n",
      "    #print \"Standard Errors\", results.bse\n",
      "    predicted = results.predict()\n",
      "    #print \"Predicted Values\", predicted\n",
      "    return results, predicted"
     ],
     "language": "python",
     "metadata": {},
     "outputs": [],
     "prompt_number": 30
    },
    {
     "cell_type": "code",
     "collapsed": false,
     "input": [
      "def plot_domestic_constant(X, y, predicted):\n",
      "    ax = plt.subplot(111)\n",
      "    ax.yaxis.set_major_formatter(tkr.FuncFormatter(lambda x, pos: ('%.0f')%(x*1e-6)))\n",
      "    ax.xaxis.set_major_formatter(tkr.FuncFormatter(lambda x, pos: '%.0f'%x))\n",
      "\n",
      "    plt.scatter(X[\"Intercept\"], y, alpha=0.3)\n",
      "    plt.scatter(X[\"Intercept\"], predicted, color=\"red\", alpha=0.6)\n",
      "    plt.xlabel(\"Ones\")\n",
      "    plt.ylabel(\"Domestic Lifetime Gross\")\n",
      "    plt.show()"
     ],
     "language": "python",
     "metadata": {},
     "outputs": [],
     "prompt_number": 31
    },
    {
     "cell_type": "code",
     "collapsed": false,
     "input": [
      "def plot_residuals(results):\n",
      "    ax = plt.subplot(111)\n",
      "    plt.hist(results.resid, bins=75, alpha=0.5)\n",
      "    ax.xaxis.set_major_formatter(tkr.FuncFormatter(lambda x, pos: ('%.0f')%(x*1e-6)))\n",
      "    plt.ylabel(\"Count\")\n",
      "    plt.xlabel(\"Residual in Millions\")\n",
      "    plt.show()"
     ],
     "language": "python",
     "metadata": {},
     "outputs": [],
     "prompt_number": 32
    },
    {
     "cell_type": "code",
     "collapsed": false,
     "input": [
      "def plot_domlifegross_forlifegross(X,y, predicted):\n",
      "    ax = plt.subplot(111)\n",
      "    ax.yaxis.set_major_formatter(tkr.FuncFormatter(lambda x, pos: ('%.0f')%(x*1e-6)))\n",
      "    ax.xaxis.set_major_formatter(tkr.FuncFormatter(lambda x, pos: '%.0f'%x))\n",
      "    \n",
      "    plt.scatter(x=X[\"ForLifeGross\"], y=y[\"DomLifeGross\"], alpha=0.3)\n",
      "    plt.subplot(111)\n",
      "    plt.plot(X[\"ForLifeGross\"], predicted, color=\"red\", alpha=0.6)\n",
      "    plt.xlabel(\"Foreign Lifetime Gross\")\n",
      "    plt.ylabel(\"Domestic Lifetime Gross\")\n",
      "    plt.show()"
     ],
     "language": "python",
     "metadata": {},
     "outputs": [],
     "prompt_number": 33
    },
    {
     "cell_type": "code",
     "collapsed": false,
     "input": [
      "def challenge_1(df):\n",
      "    X, y, results, predicted = ols_domestic_constant(df)\n",
      "    plot_domestic_constant(X, y, predicted)\n",
      "    plot_residuals(results)"
     ],
     "language": "python",
     "metadata": {},
     "outputs": [],
     "prompt_number": 34
    },
    {
     "cell_type": "code",
     "collapsed": false,
     "input": [
      "def challenge_2(df):\n",
      "    y, X = dmatrices('DomLifeGross ~ ForLifeGross', \n",
      "                     data=df, return_type = 'dataframe')\n",
      "    results, predicted = make_model(X, y)\n",
      "    plot_domlifegross_forlifegross(X,y, predicted)\n",
      "    plot_residuals(results)"
     ],
     "language": "python",
     "metadata": {},
     "outputs": [],
     "prompt_number": 35
    },
    {
     "cell_type": "code",
     "collapsed": false,
     "input": [
      "def challenge_3(df):\n",
      "    y, X = dmatrices('DomLifeGross ~ OriginC', data=df, return_type = 'dataframe')\n",
      "    results, predicted = make_model(X, y)\n",
      "    #plot_domestic_origin(X,y, predicted)\n",
      "    plot_residuals(results)\n",
      "\n",
      "    y, X = dmatrices(\"DomLifeGross ~ OriginC + ForLifeGross\", data=df, \n",
      "                     return_type = 'dataframe')\n",
      "    results, predicted = make_model(X, y)\n",
      "    plot_residuals(results)"
     ],
     "language": "python",
     "metadata": {},
     "outputs": [],
     "prompt_number": 46
    },
    {
     "cell_type": "code",
     "collapsed": false,
     "input": [
      "movies = unpickle(PICKLEDIR + \"cleanmovies.pkl\")"
     ],
     "language": "python",
     "metadata": {},
     "outputs": [],
     "prompt_number": 36
    },
    {
     "cell_type": "code",
     "collapsed": false,
     "input": [
      "df = pd.DataFrame.from_items(movies.items(), orient='index', \n",
      "                               columns=[\"OriginC\", \"Budget\", \"DomLifeGross\",\n",
      "                                       \"ForLifeGross\", \"LtdRelDate\", \n",
      "                                       \"LtdOpenTh\", \"WRelDate\", \"WOpenTh\", \n",
      "                                       \"WidestTh\", \"Genres\", \"Awards\"])\n",
      "df.head()"
     ],
     "language": "python",
     "metadata": {},
     "outputs": [
      {
       "html": [
        "<div style=\"max-width:1500px;overflow:auto;\">\n",
        "<table border=\"1\" class=\"dataframe\">\n",
        "  <thead>\n",
        "    <tr style=\"text-align: right;\">\n",
        "      <th></th>\n",
        "      <th>OriginC</th>\n",
        "      <th>Budget</th>\n",
        "      <th>DomLifeGross</th>\n",
        "      <th>ForLifeGross</th>\n",
        "      <th>LtdRelDate</th>\n",
        "      <th>LtdOpenTh</th>\n",
        "      <th>WRelDate</th>\n",
        "      <th>WOpenTh</th>\n",
        "      <th>WidestTh</th>\n",
        "      <th>Genres</th>\n",
        "      <th>Awards</th>\n",
        "    </tr>\n",
        "  </thead>\n",
        "  <tbody>\n",
        "    <tr>\n",
        "      <th>(Zindagi Na Milegi Dobara, /movies/?id=zindagi.htm)</th>\n",
        "      <td>India</td>\n",
        "      <td>None</td>\n",
        "      <td>3108485</td>\n",
        "      <td>None</td>\n",
        "      <td>None</td>\n",
        "      <td>None</td>\n",
        "      <td>July 15 2011</td>\n",
        "      <td>100</td>\n",
        "      <td>100</td>\n",
        "      <td>[Foreign, Foreign Language]</td>\n",
        "      <td>False</td>\n",
        "    </tr>\n",
        "    <tr>\n",
        "      <th>(The Wedding Banquet, /movies/?id=weddingbanquet.htm)</th>\n",
        "      <td>Taiwan</td>\n",
        "      <td>1000000</td>\n",
        "      <td>6933459</td>\n",
        "      <td>None</td>\n",
        "      <td>None</td>\n",
        "      <td>None</td>\n",
        "      <td>August 6 1993</td>\n",
        "      <td>7</td>\n",
        "      <td>113</td>\n",
        "      <td>[Foreign, Foreign Language, Gay / Lesbian, Wed...</td>\n",
        "      <td>True</td>\n",
        "    </tr>\n",
        "    <tr>\n",
        "      <th>(Singham, /movies/?id=singham.htm)</th>\n",
        "      <td>India</td>\n",
        "      <td>None</td>\n",
        "      <td>350864</td>\n",
        "      <td>None</td>\n",
        "      <td>None</td>\n",
        "      <td>None</td>\n",
        "      <td>July 22 2011</td>\n",
        "      <td>50</td>\n",
        "      <td>50</td>\n",
        "      <td>[Foreign, Foreign Language]</td>\n",
        "      <td>False</td>\n",
        "    </tr>\n",
        "    <tr>\n",
        "      <th>(Shaolin Soccer, /movies/?id=shaolinsoccer.htm)</th>\n",
        "      <td>Hong Kong</td>\n",
        "      <td>None</td>\n",
        "      <td>489600</td>\n",
        "      <td>42287160</td>\n",
        "      <td>None</td>\n",
        "      <td>None</td>\n",
        "      <td>April 2 2004</td>\n",
        "      <td>6</td>\n",
        "      <td>14</td>\n",
        "      <td>[Foreign / Action, Action - Martial Arts, Fore...</td>\n",
        "      <td>False</td>\n",
        "    </tr>\n",
        "    <tr>\n",
        "      <th>(Hermano, /movies/?id=hermano.htm)</th>\n",
        "      <td>Italy</td>\n",
        "      <td>None</td>\n",
        "      <td>29864</td>\n",
        "      <td>1556003</td>\n",
        "      <td>None</td>\n",
        "      <td>None</td>\n",
        "      <td>August 24 2012</td>\n",
        "      <td>49</td>\n",
        "      <td>49</td>\n",
        "      <td>[Foreign, Foreign Language, Sports - Soccer]</td>\n",
        "      <td>False</td>\n",
        "    </tr>\n",
        "  </tbody>\n",
        "</table>\n",
        "</div>"
       ],
       "metadata": {},
       "output_type": "pyout",
       "prompt_number": 37,
       "text": [
        "                                                      OriginC   Budget  \\\n",
        "(Zindagi Na Milegi Dobara, /movies/?id=zindagi....      India     None   \n",
        "(The Wedding Banquet, /movies/?id=weddingbanque...     Taiwan  1000000   \n",
        "(Singham, /movies/?id=singham.htm)                      India     None   \n",
        "(Shaolin Soccer, /movies/?id=shaolinsoccer.htm)     Hong Kong     None   \n",
        "(Hermano, /movies/?id=hermano.htm)                      Italy     None   \n",
        "\n",
        "                                                   DomLifeGross ForLifeGross  \\\n",
        "(Zindagi Na Milegi Dobara, /movies/?id=zindagi....      3108485         None   \n",
        "(The Wedding Banquet, /movies/?id=weddingbanque...      6933459         None   \n",
        "(Singham, /movies/?id=singham.htm)                       350864         None   \n",
        "(Shaolin Soccer, /movies/?id=shaolinsoccer.htm)          489600     42287160   \n",
        "(Hermano, /movies/?id=hermano.htm)                        29864      1556003   \n",
        "\n",
        "                                                   LtdRelDate LtdOpenTh  \\\n",
        "(Zindagi Na Milegi Dobara, /movies/?id=zindagi....       None      None   \n",
        "(The Wedding Banquet, /movies/?id=weddingbanque...       None      None   \n",
        "(Singham, /movies/?id=singham.htm)                       None      None   \n",
        "(Shaolin Soccer, /movies/?id=shaolinsoccer.htm)          None      None   \n",
        "(Hermano, /movies/?id=hermano.htm)                       None      None   \n",
        "\n",
        "                                                          WRelDate WOpenTh  \\\n",
        "(Zindagi Na Milegi Dobara, /movies/?id=zindagi....    July 15 2011     100   \n",
        "(The Wedding Banquet, /movies/?id=weddingbanque...   August 6 1993       7   \n",
        "(Singham, /movies/?id=singham.htm)                    July 22 2011      50   \n",
        "(Shaolin Soccer, /movies/?id=shaolinsoccer.htm)       April 2 2004       6   \n",
        "(Hermano, /movies/?id=hermano.htm)                  August 24 2012      49   \n",
        "\n",
        "                                                   WidestTh  \\\n",
        "(Zindagi Na Milegi Dobara, /movies/?id=zindagi....      100   \n",
        "(The Wedding Banquet, /movies/?id=weddingbanque...      113   \n",
        "(Singham, /movies/?id=singham.htm)                       50   \n",
        "(Shaolin Soccer, /movies/?id=shaolinsoccer.htm)          14   \n",
        "(Hermano, /movies/?id=hermano.htm)                       49   \n",
        "\n",
        "                                                                                               Genres  \\\n",
        "(Zindagi Na Milegi Dobara, /movies/?id=zindagi....                        [Foreign, Foreign Language]   \n",
        "(The Wedding Banquet, /movies/?id=weddingbanque...  [Foreign, Foreign Language, Gay / Lesbian, Wed...   \n",
        "(Singham, /movies/?id=singham.htm)                                        [Foreign, Foreign Language]   \n",
        "(Shaolin Soccer, /movies/?id=shaolinsoccer.htm)     [Foreign / Action, Action - Martial Arts, Fore...   \n",
        "(Hermano, /movies/?id=hermano.htm)                       [Foreign, Foreign Language, Sports - Soccer]   \n",
        "\n",
        "                                                   Awards  \n",
        "(Zindagi Na Milegi Dobara, /movies/?id=zindagi....  False  \n",
        "(The Wedding Banquet, /movies/?id=weddingbanque...   True  \n",
        "(Singham, /movies/?id=singham.htm)                  False  \n",
        "(Shaolin Soccer, /movies/?id=shaolinsoccer.htm)     False  \n",
        "(Hermano, /movies/?id=hermano.htm)                  False  "
       ]
      }
     ],
     "prompt_number": 37
    },
    {
     "cell_type": "code",
     "collapsed": false,
     "input": [
      "df = df.fillna(value=np.nan)"
     ],
     "language": "python",
     "metadata": {},
     "outputs": [],
     "prompt_number": 38
    },
    {
     "cell_type": "code",
     "collapsed": false,
     "input": [
      "df = df.fillna(value=np.nan)\n",
      "df[[\"Budget\",\"DomLifeGross\",\"ForLifeGross\", \"LtdOpenTh\", \"WOpenTh\", \n",
      "    \"WidestTh\"]] = df[[\"Budget\", \"DomLifeGross\", \"ForLifeGross\", \"LtdOpenTh\", \n",
      "                       \"WOpenTh\", \"WidestTh\"]].astype(float)\n",
      "df.head()"
     ],
     "language": "python",
     "metadata": {},
     "outputs": [
      {
       "html": [
        "<div style=\"max-width:1500px;overflow:auto;\">\n",
        "<table border=\"1\" class=\"dataframe\">\n",
        "  <thead>\n",
        "    <tr style=\"text-align: right;\">\n",
        "      <th></th>\n",
        "      <th>OriginC</th>\n",
        "      <th>Budget</th>\n",
        "      <th>DomLifeGross</th>\n",
        "      <th>ForLifeGross</th>\n",
        "      <th>LtdRelDate</th>\n",
        "      <th>LtdOpenTh</th>\n",
        "      <th>WRelDate</th>\n",
        "      <th>WOpenTh</th>\n",
        "      <th>WidestTh</th>\n",
        "      <th>Awards</th>\n",
        "    </tr>\n",
        "  </thead>\n",
        "  <tbody>\n",
        "    <tr>\n",
        "      <th>(Zindagi Na Milegi Dobara, /movies/?id=zindagi.htm)</th>\n",
        "      <td>India</td>\n",
        "      <td>NaN</td>\n",
        "      <td>3108485</td>\n",
        "      <td>NaN</td>\n",
        "      <td>NaN</td>\n",
        "      <td>NaN</td>\n",
        "      <td>July 15 2011</td>\n",
        "      <td>100</td>\n",
        "      <td>100</td>\n",
        "      <td>False</td>\n",
        "    </tr>\n",
        "    <tr>\n",
        "      <th>(The Wedding Banquet, /movies/?id=weddingbanquet.htm)</th>\n",
        "      <td>Taiwan</td>\n",
        "      <td>1000000</td>\n",
        "      <td>6933459</td>\n",
        "      <td>NaN</td>\n",
        "      <td>NaN</td>\n",
        "      <td>NaN</td>\n",
        "      <td>August 6 1993</td>\n",
        "      <td>7</td>\n",
        "      <td>113</td>\n",
        "      <td>True</td>\n",
        "    </tr>\n",
        "    <tr>\n",
        "      <th>(Singham, /movies/?id=singham.htm)</th>\n",
        "      <td>India</td>\n",
        "      <td>NaN</td>\n",
        "      <td>350864</td>\n",
        "      <td>NaN</td>\n",
        "      <td>NaN</td>\n",
        "      <td>NaN</td>\n",
        "      <td>July 22 2011</td>\n",
        "      <td>50</td>\n",
        "      <td>50</td>\n",
        "      <td>False</td>\n",
        "    </tr>\n",
        "    <tr>\n",
        "      <th>(Shaolin Soccer, /movies/?id=shaolinsoccer.htm)</th>\n",
        "      <td>Hong Kong</td>\n",
        "      <td>NaN</td>\n",
        "      <td>489600</td>\n",
        "      <td>42287160</td>\n",
        "      <td>NaN</td>\n",
        "      <td>NaN</td>\n",
        "      <td>April 2 2004</td>\n",
        "      <td>6</td>\n",
        "      <td>14</td>\n",
        "      <td>False</td>\n",
        "    </tr>\n",
        "    <tr>\n",
        "      <th>(Hermano, /movies/?id=hermano.htm)</th>\n",
        "      <td>Italy</td>\n",
        "      <td>NaN</td>\n",
        "      <td>29864</td>\n",
        "      <td>1556003</td>\n",
        "      <td>NaN</td>\n",
        "      <td>NaN</td>\n",
        "      <td>August 24 2012</td>\n",
        "      <td>49</td>\n",
        "      <td>49</td>\n",
        "      <td>False</td>\n",
        "    </tr>\n",
        "  </tbody>\n",
        "</table>\n",
        "</div>"
       ],
       "metadata": {},
       "output_type": "pyout",
       "prompt_number": 51,
       "text": [
        "                                                      OriginC   Budget  \\\n",
        "(Zindagi Na Milegi Dobara, /movies/?id=zindagi....      India      NaN   \n",
        "(The Wedding Banquet, /movies/?id=weddingbanque...     Taiwan  1000000   \n",
        "(Singham, /movies/?id=singham.htm)                      India      NaN   \n",
        "(Shaolin Soccer, /movies/?id=shaolinsoccer.htm)     Hong Kong      NaN   \n",
        "(Hermano, /movies/?id=hermano.htm)                      Italy      NaN   \n",
        "\n",
        "                                                    DomLifeGross  \\\n",
        "(Zindagi Na Milegi Dobara, /movies/?id=zindagi....       3108485   \n",
        "(The Wedding Banquet, /movies/?id=weddingbanque...       6933459   \n",
        "(Singham, /movies/?id=singham.htm)                        350864   \n",
        "(Shaolin Soccer, /movies/?id=shaolinsoccer.htm)           489600   \n",
        "(Hermano, /movies/?id=hermano.htm)                         29864   \n",
        "\n",
        "                                                    ForLifeGross LtdRelDate  \\\n",
        "(Zindagi Na Milegi Dobara, /movies/?id=zindagi....           NaN        NaN   \n",
        "(The Wedding Banquet, /movies/?id=weddingbanque...           NaN        NaN   \n",
        "(Singham, /movies/?id=singham.htm)                           NaN        NaN   \n",
        "(Shaolin Soccer, /movies/?id=shaolinsoccer.htm)         42287160        NaN   \n",
        "(Hermano, /movies/?id=hermano.htm)                       1556003        NaN   \n",
        "\n",
        "                                                    LtdOpenTh        WRelDate  \\\n",
        "(Zindagi Na Milegi Dobara, /movies/?id=zindagi....        NaN    July 15 2011   \n",
        "(The Wedding Banquet, /movies/?id=weddingbanque...        NaN   August 6 1993   \n",
        "(Singham, /movies/?id=singham.htm)                        NaN    July 22 2011   \n",
        "(Shaolin Soccer, /movies/?id=shaolinsoccer.htm)           NaN    April 2 2004   \n",
        "(Hermano, /movies/?id=hermano.htm)                        NaN  August 24 2012   \n",
        "\n",
        "                                                    WOpenTh  WidestTh Awards  \n",
        "(Zindagi Na Milegi Dobara, /movies/?id=zindagi....      100       100  False  \n",
        "(The Wedding Banquet, /movies/?id=weddingbanque...        7       113   True  \n",
        "(Singham, /movies/?id=singham.htm)                       50        50  False  \n",
        "(Shaolin Soccer, /movies/?id=shaolinsoccer.htm)           6        14  False  \n",
        "(Hermano, /movies/?id=hermano.htm)                       49        49  False  "
       ]
      }
     ],
     "prompt_number": 51
    },
    {
     "cell_type": "code",
     "collapsed": false,
     "input": [
      "s = pd.Series(df[\"Genres\"])\n",
      "d_f = pd.get_dummies(s.apply(pd.Series).stack()).sum(level=0)\n",
      "d_f.head()"
     ],
     "language": "python",
     "metadata": {},
     "outputs": [
      {
       "ename": "KeyError",
       "evalue": "'Genres'",
       "output_type": "pyerr",
       "traceback": [
        "\u001b[0;31m---------------------------------------------------------------------------\u001b[0m\n\u001b[0;31mKeyError\u001b[0m                                  Traceback (most recent call last)",
        "\u001b[0;32m<ipython-input-52-8075d9a93ee5>\u001b[0m in \u001b[0;36m<module>\u001b[0;34m()\u001b[0m\n\u001b[0;32m----> 1\u001b[0;31m \u001b[0ms\u001b[0m \u001b[0;34m=\u001b[0m \u001b[0mpd\u001b[0m\u001b[0;34m.\u001b[0m\u001b[0mSeries\u001b[0m\u001b[0;34m(\u001b[0m\u001b[0mdf\u001b[0m\u001b[0;34m[\u001b[0m\u001b[0;34m\"Genres\"\u001b[0m\u001b[0;34m]\u001b[0m\u001b[0;34m)\u001b[0m\u001b[0;34m\u001b[0m\u001b[0m\n\u001b[0m\u001b[1;32m      2\u001b[0m \u001b[0md_f\u001b[0m \u001b[0;34m=\u001b[0m \u001b[0mpd\u001b[0m\u001b[0;34m.\u001b[0m\u001b[0mget_dummies\u001b[0m\u001b[0;34m(\u001b[0m\u001b[0ms\u001b[0m\u001b[0;34m.\u001b[0m\u001b[0mapply\u001b[0m\u001b[0;34m(\u001b[0m\u001b[0mpd\u001b[0m\u001b[0;34m.\u001b[0m\u001b[0mSeries\u001b[0m\u001b[0;34m)\u001b[0m\u001b[0;34m.\u001b[0m\u001b[0mstack\u001b[0m\u001b[0;34m(\u001b[0m\u001b[0;34m)\u001b[0m\u001b[0;34m)\u001b[0m\u001b[0;34m.\u001b[0m\u001b[0msum\u001b[0m\u001b[0;34m(\u001b[0m\u001b[0mlevel\u001b[0m\u001b[0;34m=\u001b[0m\u001b[0;36m0\u001b[0m\u001b[0;34m)\u001b[0m\u001b[0;34m\u001b[0m\u001b[0m\n\u001b[1;32m      3\u001b[0m \u001b[0md_f\u001b[0m\u001b[0;34m.\u001b[0m\u001b[0mhead\u001b[0m\u001b[0;34m(\u001b[0m\u001b[0;34m)\u001b[0m\u001b[0;34m\u001b[0m\u001b[0m\n",
        "\u001b[0;32m/usr/local/lib/python2.7/dist-packages/pandas/core/frame.pyc\u001b[0m in \u001b[0;36m__getitem__\u001b[0;34m(self, key)\u001b[0m\n\u001b[1;32m   1795\u001b[0m             \u001b[0;32mreturn\u001b[0m \u001b[0mself\u001b[0m\u001b[0;34m.\u001b[0m\u001b[0m_getitem_multilevel\u001b[0m\u001b[0;34m(\u001b[0m\u001b[0mkey\u001b[0m\u001b[0;34m)\u001b[0m\u001b[0;34m\u001b[0m\u001b[0m\n\u001b[1;32m   1796\u001b[0m         \u001b[0;32melse\u001b[0m\u001b[0;34m:\u001b[0m\u001b[0;34m\u001b[0m\u001b[0m\n\u001b[0;32m-> 1797\u001b[0;31m             \u001b[0;32mreturn\u001b[0m \u001b[0mself\u001b[0m\u001b[0;34m.\u001b[0m\u001b[0m_getitem_column\u001b[0m\u001b[0;34m(\u001b[0m\u001b[0mkey\u001b[0m\u001b[0;34m)\u001b[0m\u001b[0;34m\u001b[0m\u001b[0m\n\u001b[0m\u001b[1;32m   1798\u001b[0m \u001b[0;34m\u001b[0m\u001b[0m\n\u001b[1;32m   1799\u001b[0m     \u001b[0;32mdef\u001b[0m \u001b[0m_getitem_column\u001b[0m\u001b[0;34m(\u001b[0m\u001b[0mself\u001b[0m\u001b[0;34m,\u001b[0m \u001b[0mkey\u001b[0m\u001b[0;34m)\u001b[0m\u001b[0;34m:\u001b[0m\u001b[0;34m\u001b[0m\u001b[0m\n",
        "\u001b[0;32m/usr/local/lib/python2.7/dist-packages/pandas/core/frame.pyc\u001b[0m in \u001b[0;36m_getitem_column\u001b[0;34m(self, key)\u001b[0m\n\u001b[1;32m   1802\u001b[0m         \u001b[0;31m# get column\u001b[0m\u001b[0;34m\u001b[0m\u001b[0;34m\u001b[0m\u001b[0m\n\u001b[1;32m   1803\u001b[0m         \u001b[0;32mif\u001b[0m \u001b[0mself\u001b[0m\u001b[0;34m.\u001b[0m\u001b[0mcolumns\u001b[0m\u001b[0;34m.\u001b[0m\u001b[0mis_unique\u001b[0m\u001b[0;34m:\u001b[0m\u001b[0;34m\u001b[0m\u001b[0m\n\u001b[0;32m-> 1804\u001b[0;31m             \u001b[0;32mreturn\u001b[0m \u001b[0mself\u001b[0m\u001b[0;34m.\u001b[0m\u001b[0m_get_item_cache\u001b[0m\u001b[0;34m(\u001b[0m\u001b[0mkey\u001b[0m\u001b[0;34m)\u001b[0m\u001b[0;34m\u001b[0m\u001b[0m\n\u001b[0m\u001b[1;32m   1805\u001b[0m \u001b[0;34m\u001b[0m\u001b[0m\n\u001b[1;32m   1806\u001b[0m         \u001b[0;31m# duplicate columns & possible reduce dimensionaility\u001b[0m\u001b[0;34m\u001b[0m\u001b[0;34m\u001b[0m\u001b[0m\n",
        "\u001b[0;32m/usr/local/lib/python2.7/dist-packages/pandas/core/generic.pyc\u001b[0m in \u001b[0;36m_get_item_cache\u001b[0;34m(self, item)\u001b[0m\n\u001b[1;32m   1082\u001b[0m         \u001b[0mres\u001b[0m \u001b[0;34m=\u001b[0m \u001b[0mcache\u001b[0m\u001b[0;34m.\u001b[0m\u001b[0mget\u001b[0m\u001b[0;34m(\u001b[0m\u001b[0mitem\u001b[0m\u001b[0;34m)\u001b[0m\u001b[0;34m\u001b[0m\u001b[0m\n\u001b[1;32m   1083\u001b[0m         \u001b[0;32mif\u001b[0m \u001b[0mres\u001b[0m \u001b[0;32mis\u001b[0m \u001b[0mNone\u001b[0m\u001b[0;34m:\u001b[0m\u001b[0;34m\u001b[0m\u001b[0m\n\u001b[0;32m-> 1084\u001b[0;31m             \u001b[0mvalues\u001b[0m \u001b[0;34m=\u001b[0m \u001b[0mself\u001b[0m\u001b[0;34m.\u001b[0m\u001b[0m_data\u001b[0m\u001b[0;34m.\u001b[0m\u001b[0mget\u001b[0m\u001b[0;34m(\u001b[0m\u001b[0mitem\u001b[0m\u001b[0;34m)\u001b[0m\u001b[0;34m\u001b[0m\u001b[0m\n\u001b[0m\u001b[1;32m   1085\u001b[0m             \u001b[0mres\u001b[0m \u001b[0;34m=\u001b[0m \u001b[0mself\u001b[0m\u001b[0;34m.\u001b[0m\u001b[0m_box_item_values\u001b[0m\u001b[0;34m(\u001b[0m\u001b[0mitem\u001b[0m\u001b[0;34m,\u001b[0m \u001b[0mvalues\u001b[0m\u001b[0;34m)\u001b[0m\u001b[0;34m\u001b[0m\u001b[0m\n\u001b[1;32m   1086\u001b[0m             \u001b[0mcache\u001b[0m\u001b[0;34m[\u001b[0m\u001b[0mitem\u001b[0m\u001b[0;34m]\u001b[0m \u001b[0;34m=\u001b[0m \u001b[0mres\u001b[0m\u001b[0;34m\u001b[0m\u001b[0m\n",
        "\u001b[0;32m/usr/local/lib/python2.7/dist-packages/pandas/core/internals.pyc\u001b[0m in \u001b[0;36mget\u001b[0;34m(self, item, fastpath)\u001b[0m\n\u001b[1;32m   2849\u001b[0m \u001b[0;34m\u001b[0m\u001b[0m\n\u001b[1;32m   2850\u001b[0m             \u001b[0;32mif\u001b[0m \u001b[0;32mnot\u001b[0m \u001b[0misnull\u001b[0m\u001b[0;34m(\u001b[0m\u001b[0mitem\u001b[0m\u001b[0;34m)\u001b[0m\u001b[0;34m:\u001b[0m\u001b[0;34m\u001b[0m\u001b[0m\n\u001b[0;32m-> 2851\u001b[0;31m                 \u001b[0mloc\u001b[0m \u001b[0;34m=\u001b[0m \u001b[0mself\u001b[0m\u001b[0;34m.\u001b[0m\u001b[0mitems\u001b[0m\u001b[0;34m.\u001b[0m\u001b[0mget_loc\u001b[0m\u001b[0;34m(\u001b[0m\u001b[0mitem\u001b[0m\u001b[0;34m)\u001b[0m\u001b[0;34m\u001b[0m\u001b[0m\n\u001b[0m\u001b[1;32m   2852\u001b[0m             \u001b[0;32melse\u001b[0m\u001b[0;34m:\u001b[0m\u001b[0;34m\u001b[0m\u001b[0m\n\u001b[1;32m   2853\u001b[0m                 \u001b[0mindexer\u001b[0m \u001b[0;34m=\u001b[0m \u001b[0mnp\u001b[0m\u001b[0;34m.\u001b[0m\u001b[0marange\u001b[0m\u001b[0;34m(\u001b[0m\u001b[0mlen\u001b[0m\u001b[0;34m(\u001b[0m\u001b[0mself\u001b[0m\u001b[0;34m.\u001b[0m\u001b[0mitems\u001b[0m\u001b[0;34m)\u001b[0m\u001b[0;34m)\u001b[0m\u001b[0;34m[\u001b[0m\u001b[0misnull\u001b[0m\u001b[0;34m(\u001b[0m\u001b[0mself\u001b[0m\u001b[0;34m.\u001b[0m\u001b[0mitems\u001b[0m\u001b[0;34m)\u001b[0m\u001b[0;34m]\u001b[0m\u001b[0;34m\u001b[0m\u001b[0m\n",
        "\u001b[0;32m/usr/local/lib/python2.7/dist-packages/pandas/core/index.pyc\u001b[0m in \u001b[0;36mget_loc\u001b[0;34m(self, key, method)\u001b[0m\n\u001b[1;32m   1570\u001b[0m         \"\"\"\n\u001b[1;32m   1571\u001b[0m         \u001b[0;32mif\u001b[0m \u001b[0mmethod\u001b[0m \u001b[0;32mis\u001b[0m \u001b[0mNone\u001b[0m\u001b[0;34m:\u001b[0m\u001b[0;34m\u001b[0m\u001b[0m\n\u001b[0;32m-> 1572\u001b[0;31m             \u001b[0;32mreturn\u001b[0m \u001b[0mself\u001b[0m\u001b[0;34m.\u001b[0m\u001b[0m_engine\u001b[0m\u001b[0;34m.\u001b[0m\u001b[0mget_loc\u001b[0m\u001b[0;34m(\u001b[0m\u001b[0m_values_from_object\u001b[0m\u001b[0;34m(\u001b[0m\u001b[0mkey\u001b[0m\u001b[0;34m)\u001b[0m\u001b[0;34m)\u001b[0m\u001b[0;34m\u001b[0m\u001b[0m\n\u001b[0m\u001b[1;32m   1573\u001b[0m \u001b[0;34m\u001b[0m\u001b[0m\n\u001b[1;32m   1574\u001b[0m         \u001b[0mindexer\u001b[0m \u001b[0;34m=\u001b[0m \u001b[0mself\u001b[0m\u001b[0;34m.\u001b[0m\u001b[0mget_indexer\u001b[0m\u001b[0;34m(\u001b[0m\u001b[0;34m[\u001b[0m\u001b[0mkey\u001b[0m\u001b[0;34m]\u001b[0m\u001b[0;34m,\u001b[0m \u001b[0mmethod\u001b[0m\u001b[0;34m=\u001b[0m\u001b[0mmethod\u001b[0m\u001b[0;34m)\u001b[0m\u001b[0;34m\u001b[0m\u001b[0m\n",
        "\u001b[0;32m/usr/local/lib/python2.7/dist-packages/pandas/index.so\u001b[0m in \u001b[0;36mpandas.index.IndexEngine.get_loc (pandas/index.c:3824)\u001b[0;34m()\u001b[0m\n",
        "\u001b[0;32m/usr/local/lib/python2.7/dist-packages/pandas/index.so\u001b[0m in \u001b[0;36mpandas.index.IndexEngine.get_loc (pandas/index.c:3704)\u001b[0;34m()\u001b[0m\n",
        "\u001b[0;32m/usr/local/lib/python2.7/dist-packages/pandas/hashtable.so\u001b[0m in \u001b[0;36mpandas.hashtable.PyObjectHashTable.get_item (pandas/hashtable.c:12280)\u001b[0;34m()\u001b[0m\n",
        "\u001b[0;32m/usr/local/lib/python2.7/dist-packages/pandas/hashtable.so\u001b[0m in \u001b[0;36mpandas.hashtable.PyObjectHashTable.get_item (pandas/hashtable.c:12231)\u001b[0;34m()\u001b[0m\n",
        "\u001b[0;31mKeyError\u001b[0m: 'Genres'"
       ]
      }
     ],
     "prompt_number": 52
    },
    {
     "cell_type": "markdown",
     "metadata": {},
     "source": [
      "**Note:**\n",
      "The drop throws an error if run more than once."
     ]
    },
    {
     "cell_type": "code",
     "collapsed": false,
     "input": [
      "#df = df.drop(\"Genres\", 1)"
     ],
     "language": "python",
     "metadata": {},
     "outputs": [
      {
       "ename": "ValueError",
       "evalue": "labels ['Genres'] not contained in axis",
       "output_type": "pyerr",
       "traceback": [
        "\u001b[0;31m---------------------------------------------------------------------------\u001b[0m\n\u001b[0;31mValueError\u001b[0m                                Traceback (most recent call last)",
        "\u001b[0;32m<ipython-input-53-c04e211b9981>\u001b[0m in \u001b[0;36m<module>\u001b[0;34m()\u001b[0m\n\u001b[0;32m----> 1\u001b[0;31m \u001b[0mdf\u001b[0m \u001b[0;34m=\u001b[0m \u001b[0mdf\u001b[0m\u001b[0;34m.\u001b[0m\u001b[0mdrop\u001b[0m\u001b[0;34m(\u001b[0m\u001b[0;34m\"Genres\"\u001b[0m\u001b[0;34m,\u001b[0m \u001b[0;36m1\u001b[0m\u001b[0;34m)\u001b[0m\u001b[0;34m\u001b[0m\u001b[0m\n\u001b[0m\u001b[1;32m      2\u001b[0m \u001b[0;34m\u001b[0m\u001b[0m\n\u001b[1;32m      3\u001b[0m \u001b[0mdf\u001b[0m\u001b[0;34m.\u001b[0m\u001b[0mhead\u001b[0m\u001b[0;34m(\u001b[0m\u001b[0;34m)\u001b[0m\u001b[0;34m\u001b[0m\u001b[0m\n",
        "\u001b[0;32m/usr/local/lib/python2.7/dist-packages/pandas/core/generic.pyc\u001b[0m in \u001b[0;36mdrop\u001b[0;34m(self, labels, axis, level, inplace, errors)\u001b[0m\n\u001b[1;32m   1595\u001b[0m                 \u001b[0mnew_axis\u001b[0m \u001b[0;34m=\u001b[0m \u001b[0maxis\u001b[0m\u001b[0;34m.\u001b[0m\u001b[0mdrop\u001b[0m\u001b[0;34m(\u001b[0m\u001b[0mlabels\u001b[0m\u001b[0;34m,\u001b[0m \u001b[0mlevel\u001b[0m\u001b[0;34m=\u001b[0m\u001b[0mlevel\u001b[0m\u001b[0;34m,\u001b[0m \u001b[0merrors\u001b[0m\u001b[0;34m=\u001b[0m\u001b[0merrors\u001b[0m\u001b[0;34m)\u001b[0m\u001b[0;34m\u001b[0m\u001b[0m\n\u001b[1;32m   1596\u001b[0m             \u001b[0;32melse\u001b[0m\u001b[0;34m:\u001b[0m\u001b[0;34m\u001b[0m\u001b[0m\n\u001b[0;32m-> 1597\u001b[0;31m                 \u001b[0mnew_axis\u001b[0m \u001b[0;34m=\u001b[0m \u001b[0maxis\u001b[0m\u001b[0;34m.\u001b[0m\u001b[0mdrop\u001b[0m\u001b[0;34m(\u001b[0m\u001b[0mlabels\u001b[0m\u001b[0;34m,\u001b[0m \u001b[0merrors\u001b[0m\u001b[0;34m=\u001b[0m\u001b[0merrors\u001b[0m\u001b[0;34m)\u001b[0m\u001b[0;34m\u001b[0m\u001b[0m\n\u001b[0m\u001b[1;32m   1598\u001b[0m             \u001b[0mdropped\u001b[0m \u001b[0;34m=\u001b[0m \u001b[0mself\u001b[0m\u001b[0;34m.\u001b[0m\u001b[0mreindex\u001b[0m\u001b[0;34m(\u001b[0m\u001b[0;34m**\u001b[0m\u001b[0;34m{\u001b[0m\u001b[0maxis_name\u001b[0m\u001b[0;34m:\u001b[0m \u001b[0mnew_axis\u001b[0m\u001b[0;34m}\u001b[0m\u001b[0;34m)\u001b[0m\u001b[0;34m\u001b[0m\u001b[0m\n\u001b[1;32m   1599\u001b[0m             \u001b[0;32mtry\u001b[0m\u001b[0;34m:\u001b[0m\u001b[0;34m\u001b[0m\u001b[0m\n",
        "\u001b[0;32m/usr/local/lib/python2.7/dist-packages/pandas/core/index.pyc\u001b[0m in \u001b[0;36mdrop\u001b[0;34m(self, labels, errors)\u001b[0m\n\u001b[1;32m   2568\u001b[0m         \u001b[0;32mif\u001b[0m \u001b[0mmask\u001b[0m\u001b[0;34m.\u001b[0m\u001b[0many\u001b[0m\u001b[0;34m(\u001b[0m\u001b[0;34m)\u001b[0m\u001b[0;34m:\u001b[0m\u001b[0;34m\u001b[0m\u001b[0m\n\u001b[1;32m   2569\u001b[0m             \u001b[0;32mif\u001b[0m \u001b[0merrors\u001b[0m \u001b[0;34m!=\u001b[0m \u001b[0;34m'ignore'\u001b[0m\u001b[0;34m:\u001b[0m\u001b[0;34m\u001b[0m\u001b[0m\n\u001b[0;32m-> 2570\u001b[0;31m                 \u001b[0;32mraise\u001b[0m \u001b[0mValueError\u001b[0m\u001b[0;34m(\u001b[0m\u001b[0;34m'labels %s not contained in axis'\u001b[0m \u001b[0;34m%\u001b[0m \u001b[0mlabels\u001b[0m\u001b[0;34m[\u001b[0m\u001b[0mmask\u001b[0m\u001b[0;34m]\u001b[0m\u001b[0;34m)\u001b[0m\u001b[0;34m\u001b[0m\u001b[0m\n\u001b[0m\u001b[1;32m   2571\u001b[0m             \u001b[0mindexer\u001b[0m \u001b[0;34m=\u001b[0m \u001b[0mindexer\u001b[0m\u001b[0;34m[\u001b[0m\u001b[0;34m~\u001b[0m\u001b[0mmask\u001b[0m\u001b[0;34m]\u001b[0m\u001b[0;34m\u001b[0m\u001b[0m\n\u001b[1;32m   2572\u001b[0m         \u001b[0;32mreturn\u001b[0m \u001b[0mself\u001b[0m\u001b[0;34m.\u001b[0m\u001b[0mdelete\u001b[0m\u001b[0;34m(\u001b[0m\u001b[0mindexer\u001b[0m\u001b[0;34m)\u001b[0m\u001b[0;34m\u001b[0m\u001b[0m\n",
        "\u001b[0;31mValueError\u001b[0m: labels ['Genres'] not contained in axis"
       ]
      }
     ],
     "prompt_number": 53
    },
    {
     "cell_type": "code",
     "collapsed": false,
     "input": [
      "df.head()"
     ],
     "language": "python",
     "metadata": {},
     "outputs": [
      {
       "html": [
        "<div style=\"max-width:1500px;overflow:auto;\">\n",
        "<table border=\"1\" class=\"dataframe\">\n",
        "  <thead>\n",
        "    <tr style=\"text-align: right;\">\n",
        "      <th></th>\n",
        "      <th>OriginC</th>\n",
        "      <th>Budget</th>\n",
        "      <th>DomLifeGross</th>\n",
        "      <th>ForLifeGross</th>\n",
        "      <th>LtdRelDate</th>\n",
        "      <th>LtdOpenTh</th>\n",
        "      <th>WRelDate</th>\n",
        "      <th>WOpenTh</th>\n",
        "      <th>WidestTh</th>\n",
        "      <th>Awards</th>\n",
        "    </tr>\n",
        "  </thead>\n",
        "  <tbody>\n",
        "    <tr>\n",
        "      <th>(Zindagi Na Milegi Dobara, /movies/?id=zindagi.htm)</th>\n",
        "      <td>India</td>\n",
        "      <td>NaN</td>\n",
        "      <td>3108485</td>\n",
        "      <td>NaN</td>\n",
        "      <td>NaN</td>\n",
        "      <td>NaN</td>\n",
        "      <td>July 15 2011</td>\n",
        "      <td>100</td>\n",
        "      <td>100</td>\n",
        "      <td>False</td>\n",
        "    </tr>\n",
        "    <tr>\n",
        "      <th>(The Wedding Banquet, /movies/?id=weddingbanquet.htm)</th>\n",
        "      <td>Taiwan</td>\n",
        "      <td>1000000</td>\n",
        "      <td>6933459</td>\n",
        "      <td>NaN</td>\n",
        "      <td>NaN</td>\n",
        "      <td>NaN</td>\n",
        "      <td>August 6 1993</td>\n",
        "      <td>7</td>\n",
        "      <td>113</td>\n",
        "      <td>True</td>\n",
        "    </tr>\n",
        "    <tr>\n",
        "      <th>(Singham, /movies/?id=singham.htm)</th>\n",
        "      <td>India</td>\n",
        "      <td>NaN</td>\n",
        "      <td>350864</td>\n",
        "      <td>NaN</td>\n",
        "      <td>NaN</td>\n",
        "      <td>NaN</td>\n",
        "      <td>July 22 2011</td>\n",
        "      <td>50</td>\n",
        "      <td>50</td>\n",
        "      <td>False</td>\n",
        "    </tr>\n",
        "    <tr>\n",
        "      <th>(Shaolin Soccer, /movies/?id=shaolinsoccer.htm)</th>\n",
        "      <td>Hong Kong</td>\n",
        "      <td>NaN</td>\n",
        "      <td>489600</td>\n",
        "      <td>42287160</td>\n",
        "      <td>NaN</td>\n",
        "      <td>NaN</td>\n",
        "      <td>April 2 2004</td>\n",
        "      <td>6</td>\n",
        "      <td>14</td>\n",
        "      <td>False</td>\n",
        "    </tr>\n",
        "    <tr>\n",
        "      <th>(Hermano, /movies/?id=hermano.htm)</th>\n",
        "      <td>Italy</td>\n",
        "      <td>NaN</td>\n",
        "      <td>29864</td>\n",
        "      <td>1556003</td>\n",
        "      <td>NaN</td>\n",
        "      <td>NaN</td>\n",
        "      <td>August 24 2012</td>\n",
        "      <td>49</td>\n",
        "      <td>49</td>\n",
        "      <td>False</td>\n",
        "    </tr>\n",
        "  </tbody>\n",
        "</table>\n",
        "</div>"
       ],
       "metadata": {},
       "output_type": "pyout",
       "prompt_number": 54,
       "text": [
        "                                                      OriginC   Budget  \\\n",
        "(Zindagi Na Milegi Dobara, /movies/?id=zindagi....      India      NaN   \n",
        "(The Wedding Banquet, /movies/?id=weddingbanque...     Taiwan  1000000   \n",
        "(Singham, /movies/?id=singham.htm)                      India      NaN   \n",
        "(Shaolin Soccer, /movies/?id=shaolinsoccer.htm)     Hong Kong      NaN   \n",
        "(Hermano, /movies/?id=hermano.htm)                      Italy      NaN   \n",
        "\n",
        "                                                    DomLifeGross  \\\n",
        "(Zindagi Na Milegi Dobara, /movies/?id=zindagi....       3108485   \n",
        "(The Wedding Banquet, /movies/?id=weddingbanque...       6933459   \n",
        "(Singham, /movies/?id=singham.htm)                        350864   \n",
        "(Shaolin Soccer, /movies/?id=shaolinsoccer.htm)           489600   \n",
        "(Hermano, /movies/?id=hermano.htm)                         29864   \n",
        "\n",
        "                                                    ForLifeGross LtdRelDate  \\\n",
        "(Zindagi Na Milegi Dobara, /movies/?id=zindagi....           NaN        NaN   \n",
        "(The Wedding Banquet, /movies/?id=weddingbanque...           NaN        NaN   \n",
        "(Singham, /movies/?id=singham.htm)                           NaN        NaN   \n",
        "(Shaolin Soccer, /movies/?id=shaolinsoccer.htm)         42287160        NaN   \n",
        "(Hermano, /movies/?id=hermano.htm)                       1556003        NaN   \n",
        "\n",
        "                                                    LtdOpenTh        WRelDate  \\\n",
        "(Zindagi Na Milegi Dobara, /movies/?id=zindagi....        NaN    July 15 2011   \n",
        "(The Wedding Banquet, /movies/?id=weddingbanque...        NaN   August 6 1993   \n",
        "(Singham, /movies/?id=singham.htm)                        NaN    July 22 2011   \n",
        "(Shaolin Soccer, /movies/?id=shaolinsoccer.htm)           NaN    April 2 2004   \n",
        "(Hermano, /movies/?id=hermano.htm)                        NaN  August 24 2012   \n",
        "\n",
        "                                                    WOpenTh  WidestTh Awards  \n",
        "(Zindagi Na Milegi Dobara, /movies/?id=zindagi....      100       100  False  \n",
        "(The Wedding Banquet, /movies/?id=weddingbanque...        7       113   True  \n",
        "(Singham, /movies/?id=singham.htm)                       50        50  False  \n",
        "(Shaolin Soccer, /movies/?id=shaolinsoccer.htm)           6        14  False  \n",
        "(Hermano, /movies/?id=hermano.htm)                       49        49  False  "
       ]
      }
     ],
     "prompt_number": 54
    },
    {
     "cell_type": "code",
     "collapsed": false,
     "input": [
      "challenge_1(df)"
     ],
     "language": "python",
     "metadata": {},
     "outputs": [
      {
       "output_type": "stream",
       "stream": "stdout",
       "text": [
        "R Squared -1.55431223448e-15\n"
       ]
      },
      {
       "metadata": {},
       "output_type": "display_data",
       "png": "[encoded data removed]",
       "text": [
        "<matplotlib.figure.Figure at 0x7ffa7a52b110>"
       ]
      },
      {
       "metadata": {},
       "output_type": "display_data",
       "png": "[encoded data removed]",
       "text": [
        "<matplotlib.figure.Figure at 0x7ffa7a044090>"
       ]
      }
     ],
     "prompt_number": 55
    },
    {
     "cell_type": "code",
     "collapsed": false,
     "input": [
      "challenge_2(df)"
     ],
     "language": "python",
     "metadata": {},
     "outputs": [
      {
       "output_type": "stream",
       "stream": "stdout",
       "text": [
        "R Squared 0.159441385432\n"
       ]
      },
      {
       "metadata": {},
       "output_type": "display_data",
       "png": "[encoded data removed]",
       "text": [
        "<matplotlib.figure.Figure at 0x7ffa79ff61d0>"
       ]
      },
      {
       "metadata": {},
       "output_type": "display_data",
       "png": "[encoded data removed]",
       "text": [
        "<matplotlib.figure.Figure at 0x7ffa7a35ecd0>"
       ]
      }
     ],
     "prompt_number": 56
    },
    {
     "cell_type": "markdown",
     "metadata": {},
     "source": [
      "**Challenge 3:**"
     ]
    },
    {
     "cell_type": "code",
     "collapsed": false,
     "input": [
      "challenge_3(df)"
     ],
     "language": "python",
     "metadata": {},
     "outputs": [
      {
       "output_type": "stream",
       "stream": "stdout",
       "text": [
        "R Squared 0.0839671521541\n"
       ]
      },
      {
       "metadata": {},
       "output_type": "display_data",
       "png": "[encoded data removed]",
       "text": [
        "<matplotlib.figure.Figure at 0x7ffa7a18a390>"
       ]
      },
      {
       "output_type": "stream",
       "stream": "stdout",
       "text": [
        "R Squared 0.414977812548\n"
       ]
      },
      {
       "metadata": {},
       "output_type": "display_data",
       "png": "[encoded data removed]",
       "text": [
        "<matplotlib.figure.Figure at 0x7ffa7a16eed0>"
       ]
      }
     ],
     "prompt_number": 57
    },
    {
     "cell_type": "code",
     "collapsed": false,
     "input": [],
     "language": "python",
     "metadata": {},
     "outputs": []
    }
   ],
   "metadata": {}
  }
 ]
}